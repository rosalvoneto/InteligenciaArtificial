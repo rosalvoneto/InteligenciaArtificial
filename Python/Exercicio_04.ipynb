{
 "cells": [
  {
   "cell_type": "markdown",
   "metadata": {},
   "source": [
    "# Disciplina: Inteligência Artificial\n",
    "## Exercício 04\n",
    "\n",
    "### Aula: Python\n",
    "\n",
    "Prof. Rosalvo Neto\n",
    "\n"
   ]
  },
  {
   "cell_type": "markdown",
   "metadata": {},
   "source": [
    "**Questão 01)** Criar uma função que irá calcular o Erro Quadrático Médio, do inglês Mean squared error (MSE). A função deve se chamar ***MSE*** e recebe como parâmtro dois array (X, Y) e retorna \n",
    "o valor do MSE = $\\displaystyle\\frac{1}{n}\\sum_{t=1}^{n}(x_{i} -y_{i})^2$\n",
    "\n",
    "Ver: https://pt.wikipedia.org/wiki/Erro_quadr%C3%A1tico_m%C3%A9dio"
   ]
  },
  {
   "cell_type": "code",
   "execution_count": null,
   "metadata": {},
   "outputs": [],
   "source": [
    "# Escreva seu código aqui!\n",
    "\n",
    "   "
   ]
  },
  {
   "cell_type": "markdown",
   "metadata": {},
   "source": [
    "#### Execute o código abaixo para testar sua função!"
   ]
  },
  {
   "cell_type": "code",
   "execution_count": null,
   "metadata": {},
   "outputs": [],
   "source": [
    "X = np.array([1, 2, 3, 4])\n",
    "Y = np.array([2, 5, 6, 7])\n",
    "MSE(X, Y)"
   ]
  },
  {
   "cell_type": "markdown",
   "metadata": {},
   "source": [
    "### Resultado esperado:\n",
    "7.0"
   ]
  }
 ],
 "metadata": {
  "kernelspec": {
   "display_name": "Python 3",
   "language": "python",
   "name": "python3"
  },
  "language_info": {
   "codemirror_mode": {
    "name": "ipython",
    "version": 3
   },
   "file_extension": ".py",
   "mimetype": "text/x-python",
   "name": "python",
   "nbconvert_exporter": "python",
   "pygments_lexer": "ipython3",
   "version": "3.7.6"
  }
 },
 "nbformat": 4,
 "nbformat_minor": 4
}
