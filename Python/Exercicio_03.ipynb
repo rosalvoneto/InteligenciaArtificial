{
 "cells": [
  {
   "cell_type": "markdown",
   "metadata": {},
   "source": [
    "# Disciplina: Inteligência Artificial\n",
    "## Exercício 03\n",
    "\n",
    "### Aula: Python\n",
    "\n",
    "Prof. Rosalvo Neto\n",
    "\n"
   ]
  },
  {
   "cell_type": "markdown",
   "metadata": {},
   "source": [
    "**Questão 01)** Ler o conteúdo do arquivo palavras e gerar um dicionário com a quantidade de palavras onde a chave é a palavra e o valor é a quantidade de ocorrências da palavra no arquivo. Crie uma função chamada **getPalavrasCount**. Essa função recebe como parâmetro o nome do arquivo \"palavras.txt\" e retorna um dicionário.**Dica:** use a função get do dicionário. Ver: https://www.tutorialspoint.com/python/dictionary_get.htm"
   ]
  },
  {
   "cell_type": "code",
   "execution_count": null,
   "metadata": {},
   "outputs": [],
   "source": [
    "# Escreva seu código aqui!\n",
    "\n"
   ]
  },
  {
   "cell_type": "markdown",
   "metadata": {},
   "source": [
    "#### Execute o código abaixo para testar sua função!"
   ]
  },
  {
   "cell_type": "code",
   "execution_count": null,
   "metadata": {},
   "outputs": [],
   "source": [
    "getPalavrasCount(\"palavras.txt\")"
   ]
  },
  {
   "cell_type": "markdown",
   "metadata": {},
   "source": [
    "### Resultado esperado:\n",
    "{'Flamengo': 3,\n",
    " 'Palmeiras': 2,\n",
    " 'Corinthians': 4,\n",
    " 'Cruzeiro': 3,\n",
    " 'Fluminense': 2,\n",
    " 'São': 3,\n",
    " 'Paulo': 3,\n",
    " 'Santos': 1,\n",
    " 'Atlético': 1,\n",
    " 'Paranaense': 1,\n",
    " 'Vasco': 1,\n",
    " 'da': 1,\n",
    " 'Gama': 1}"
   ]
  }
 ],
 "metadata": {
  "kernelspec": {
   "display_name": "Python 3",
   "language": "python",
   "name": "python3"
  },
  "language_info": {
   "codemirror_mode": {
    "name": "ipython",
    "version": 3
   },
   "file_extension": ".py",
   "mimetype": "text/x-python",
   "name": "python",
   "nbconvert_exporter": "python",
   "pygments_lexer": "ipython3",
   "version": "3.7.6"
  }
 },
 "nbformat": 4,
 "nbformat_minor": 4
}
