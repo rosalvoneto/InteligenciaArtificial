{
 "cells": [
  {
   "cell_type": "markdown",
   "metadata": {},
   "source": [
    "# Busca Cega\n",
    "\n",
    "Implementação da solução para o problema do Quebra cabeça de oito peças.\n",
    "\n",
    "**Author**: Rosalvo Neto\n",
    "\n",
    "https://www.researchgate.net/profile/Rosalvo_Neto"
   ]
  },
  {
   "cell_type": "code",
   "execution_count": 1,
   "metadata": {},
   "outputs": [],
   "source": [
    "from Borda import Borda\n",
    "from Estado import Estado\n",
    "from No import No\n",
    "from Problema import Problema"
   ]
  },
  {
   "cell_type": "markdown",
   "metadata": {},
   "source": [
    "## Estado Inicial"
   ]
  },
  {
   "cell_type": "code",
   "execution_count": 2,
   "metadata": {},
   "outputs": [],
   "source": [
    "L1 = [1, 2, 3]\n",
    "L2 = [0, 4, 5]\n",
    "L3 = [6, 7, 8]"
   ]
  },
  {
   "cell_type": "markdown",
   "metadata": {},
   "source": [
    "## Busca-em-arvore"
   ]
  },
  {
   "cell_type": "code",
   "execution_count": 3,
   "metadata": {},
   "outputs": [
    {
     "name": "stdout",
     "output_type": "stream",
     "text": [
      "Estado Inicial\n",
      "----------\n",
      "1 | 2 | 3 \n",
      "----------\n",
      "0 | 4 | 5 \n",
      "----------\n",
      "6 | 7 | 8 \n",
      "Fim da busca!\n"
     ]
    }
   ],
   "source": [
    "p = Problema()\n",
    "no_inicial = p.get_inicio(L1, L2, L3)\n",
    "\n",
    "print(\"Estado Inicial\")\n",
    "no_inicial.estado.imprimir()\n",
    "\n",
    "borda = Borda(0)\n",
    "borda.inserir(no_inicial)\n",
    "\n",
    "limit = 10000\n",
    "count = 0\n",
    "while True:\n",
    "    if count > limit:\n",
    "        raise NameError(\"Limite excedido!\")\n",
    "    if borda.vazia():\n",
    "        raise NameError(\"Borda vazia\")\n",
    "    no = borda.remover()\n",
    "    if no.teste_objetivo():\n",
    "        break\n",
    "    lista_sucessores = no.get_sucessores()\n",
    "    borda.inserirTodos(lista_sucessores)    \n",
    "    count = count + 1 \n",
    "    \n",
    "print(\"Fim da busca!\")"
   ]
  },
  {
   "cell_type": "markdown",
   "metadata": {},
   "source": [
    "## Solução"
   ]
  },
  {
   "cell_type": "code",
   "execution_count": 4,
   "metadata": {},
   "outputs": [],
   "source": [
    "def getPathSolucao(n, l):\n",
    "    if n.NoPai != None:\n",
    "        l.append(n)\n",
    "        getPathSolucao(n.NoPai, l)"
   ]
  },
  {
   "cell_type": "code",
   "execution_count": 5,
   "metadata": {},
   "outputs": [],
   "source": [
    "path = []\n",
    "getPathSolucao(no, path)"
   ]
  },
  {
   "cell_type": "code",
   "execution_count": 6,
   "metadata": {},
   "outputs": [
    {
     "name": "stdout",
     "output_type": "stream",
     "text": [
      "Estado Inicial\n",
      "----------\n",
      "1 | 2 | 3 \n",
      "----------\n",
      "0 | 4 | 5 \n",
      "----------\n",
      "6 | 7 | 8 \n",
      "------------------------------\n",
      "[ 1 ]\n",
      "----------\n",
      "0 | 2 | 3 \n",
      "----------\n",
      "1 | 4 | 5 \n",
      "----------\n",
      "6 | 7 | 8 \n",
      "------------------------------\n",
      "[ 2 ]\n",
      "----------\n",
      "2 | 0 | 3 \n",
      "----------\n",
      "1 | 4 | 5 \n",
      "----------\n",
      "6 | 7 | 8 \n",
      "------------------------------\n",
      "[ 3 ]\n",
      "----------\n",
      "2 | 3 | 0 \n",
      "----------\n",
      "1 | 4 | 5 \n",
      "----------\n",
      "6 | 7 | 8 \n",
      "------------------------------\n",
      "[ 4 ]\n",
      "----------\n",
      "2 | 3 | 5 \n",
      "----------\n",
      "1 | 4 | 0 \n",
      "----------\n",
      "6 | 7 | 8 \n",
      "------------------------------\n",
      "[ 5 ]\n",
      "----------\n",
      "2 | 3 | 5 \n",
      "----------\n",
      "1 | 0 | 4 \n",
      "----------\n",
      "6 | 7 | 8 \n",
      "------------------------------\n",
      "[ 6 ]\n",
      "----------\n",
      "2 | 0 | 5 \n",
      "----------\n",
      "1 | 3 | 4 \n",
      "----------\n",
      "6 | 7 | 8 \n",
      "------------------------------\n",
      "[ 7 ]\n",
      "----------\n",
      "0 | 2 | 5 \n",
      "----------\n",
      "1 | 3 | 4 \n",
      "----------\n",
      "6 | 7 | 8 \n",
      "------------------------------\n",
      "[ 8 ]\n",
      "----------\n",
      "1 | 2 | 5 \n",
      "----------\n",
      "0 | 3 | 4 \n",
      "----------\n",
      "6 | 7 | 8 \n",
      "------------------------------\n",
      "[ 9 ]\n",
      "----------\n",
      "1 | 2 | 5 \n",
      "----------\n",
      "3 | 0 | 4 \n",
      "----------\n",
      "6 | 7 | 8 \n",
      "------------------------------\n",
      "[ 10 ]\n",
      "----------\n",
      "1 | 2 | 5 \n",
      "----------\n",
      "3 | 4 | 0 \n",
      "----------\n",
      "6 | 7 | 8 \n",
      "------------------------------\n",
      "[ 11 ]\n",
      "----------\n",
      "1 | 2 | 0 \n",
      "----------\n",
      "3 | 4 | 5 \n",
      "----------\n",
      "6 | 7 | 8 \n",
      "------------------------------\n",
      "[ 12 ]\n",
      "----------\n",
      "1 | 0 | 2 \n",
      "----------\n",
      "3 | 4 | 5 \n",
      "----------\n",
      "6 | 7 | 8 \n",
      "------------------------------\n",
      "[ 13 ]\n",
      "----------\n",
      "0 | 1 | 2 \n",
      "----------\n",
      "3 | 4 | 5 \n",
      "----------\n",
      "6 | 7 | 8 \n"
     ]
    }
   ],
   "source": [
    "print(\"Estado Inicial\")\n",
    "no_inicial.estado.imprimir()\n",
    "for i in range(len(path)-1, -1, -1):\n",
    "    print(\"----------\"*3)\n",
    "    print(\"[ \" + str(len(path) - i) +\" ]\")\n",
    "    path[i].estado.imprimir()"
   ]
  },
  {
   "cell_type": "code",
   "execution_count": 7,
   "metadata": {},
   "outputs": [
    {
     "data": {
      "text/plain": [
       "5084"
      ]
     },
     "execution_count": 7,
     "metadata": {},
     "output_type": "execute_result"
    }
   ],
   "source": [
    "len(borda.visitados)"
   ]
  },
  {
   "cell_type": "code",
   "execution_count": null,
   "metadata": {},
   "outputs": [],
   "source": []
  }
 ],
 "metadata": {
  "kernelspec": {
   "display_name": "Python 3",
   "language": "python",
   "name": "python3"
  },
  "language_info": {
   "codemirror_mode": {
    "name": "ipython",
    "version": 3
   },
   "file_extension": ".py",
   "mimetype": "text/x-python",
   "name": "python",
   "nbconvert_exporter": "python",
   "pygments_lexer": "ipython3",
   "version": "3.7.6"
  }
 },
 "nbformat": 4,
 "nbformat_minor": 4
}
